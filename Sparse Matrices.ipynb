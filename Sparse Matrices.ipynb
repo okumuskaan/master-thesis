{
 "cells": [
  {
   "cell_type": "code",
   "execution_count": 71,
   "id": "fa73c06b",
   "metadata": {},
   "outputs": [],
   "source": [
    "import scipy\n",
    "import numpy as np\n",
    "import matplotlib.pyplot as plt"
   ]
  },
  {
   "cell_type": "markdown",
   "id": "0ad94dd5",
   "metadata": {},
   "source": [
    "## Types of Sparse Matrices\n",
    "\n",
    "* **Coordinate List (COO):** a list of (row, col, val) tuples. Probably the most intuitive approach.\n",
    "\n",
    "\n",
    "* **Dictionary of Keys (DOK):** a map of non-zero values indexed by (row, col) pairs. Under the hood, the index is basically a hash table, which has a $O(N)$ time complexity when searching an element, but might use up lots of memory.\n",
    "\n",
    "\n",
    "* **Linked List (LIL):** a jagged array of rows, where each row is a list of (col, value) tuples. In many implementations, there are two lists holding the data indexed by row number.\n",
    "\n",
    "\n",
    "* **Compressed Sparse Row (CSR):** the matrix is flattened by row, i.e. it is represented by three one-dimensional arrays usually called A (values), JA (indices), IA (index pointer). The first array stores the values of non-zero elements and has length NNZ. JA stores the column index of each element in the A array and has length NNZ. Finally, IA stores the cumulative number of non-zero elements up to the i-th row.\n",
    "\n",
    "\n",
    "* **Compressed Sparse Column (CSC):** same as CSR but with column and row indices swapped. This is preferred approach when the matrix is used for column spicing.\n",
    "\n",
    "\n",
    "\n"
   ]
  },
  {
   "cell_type": "code",
   "execution_count": 24,
   "id": "52f2cfc5",
   "metadata": {},
   "outputs": [
    {
     "name": "stdout",
     "output_type": "stream",
     "text": [
      "A: \n",
      " [[0 0 3 0]\n",
      " [0 2 0 1]\n",
      " [0 0 0 2]\n",
      " [1 0 0 0]] \n",
      "\n",
      "COO: \n",
      "   (0, 2)\t3\n",
      "  (1, 1)\t2\n",
      "  (1, 3)\t1\n",
      "  (2, 3)\t2\n",
      "  (3, 0)\t1 \n",
      "\n",
      "LIL: \n",
      "   (0, 2)\t3\n",
      "  (1, 1)\t2\n",
      "  (1, 3)\t1\n",
      "  (2, 3)\t2\n",
      "  (3, 0)\t1 \n",
      "\n",
      "CSR: \n",
      "   (0, 2)\t3\n",
      "  (1, 1)\t2\n",
      "  (1, 3)\t1\n",
      "  (2, 3)\t2\n",
      "  (3, 0)\t1\n"
     ]
    }
   ],
   "source": [
    "A = np.array([\n",
    "    [0, 0, 3, 0], \n",
    "    [0, 2, 0, 1],\n",
    "    [0, 0, 0, 2],\n",
    "    [1, 0, 0, 0]\n",
    "])\n",
    "print(\"A: \\n\", A, \"\\n\")\n",
    "\n",
    "A_coo = scipy.sparse.coo_matrix(A)\n",
    "print(\"COO: \\n\", A_coo, \"\\n\")\n",
    "\n",
    "A_lil = scipy.sparse.lil_matrix(A)\n",
    "print(\"LIL: \\n\", A_lil, \"\\n\")\n",
    "\n",
    "A_csr = scipy.sparse.csr_matrix(A)\n",
    "print(\"CSR: \\n\", A_csr)"
   ]
  },
  {
   "cell_type": "code",
   "execution_count": null,
   "id": "158b6510",
   "metadata": {},
   "outputs": [],
   "source": []
  },
  {
   "cell_type": "code",
   "execution_count": null,
   "id": "908115fe",
   "metadata": {},
   "outputs": [],
   "source": []
  },
  {
   "cell_type": "code",
   "execution_count": null,
   "id": "057f8b2c",
   "metadata": {},
   "outputs": [],
   "source": []
  },
  {
   "cell_type": "code",
   "execution_count": null,
   "id": "93964f51",
   "metadata": {},
   "outputs": [],
   "source": []
  },
  {
   "cell_type": "code",
   "execution_count": null,
   "id": "c176bd2c",
   "metadata": {},
   "outputs": [],
   "source": []
  },
  {
   "cell_type": "code",
   "execution_count": null,
   "id": "b05e1365",
   "metadata": {},
   "outputs": [],
   "source": []
  },
  {
   "cell_type": "code",
   "execution_count": null,
   "id": "c3b8fd23",
   "metadata": {},
   "outputs": [],
   "source": []
  },
  {
   "cell_type": "code",
   "execution_count": null,
   "id": "ca7f10f2",
   "metadata": {},
   "outputs": [],
   "source": []
  },
  {
   "cell_type": "code",
   "execution_count": null,
   "id": "ea2a6b05",
   "metadata": {},
   "outputs": [],
   "source": []
  },
  {
   "cell_type": "code",
   "execution_count": null,
   "id": "b8885297",
   "metadata": {},
   "outputs": [],
   "source": []
  },
  {
   "cell_type": "code",
   "execution_count": null,
   "id": "bf05c344",
   "metadata": {},
   "outputs": [],
   "source": []
  },
  {
   "cell_type": "code",
   "execution_count": 79,
   "id": "9fc9abfa",
   "metadata": {},
   "outputs": [
    {
     "name": "stdout",
     "output_type": "stream",
     "text": [
      "Shape: ( 5 , 5 )\n"
     ]
    }
   ],
   "source": [
    "img = np.array([\n",
    "    [1,2,3,4,5],\n",
    "    [6,7,8,9,10],\n",
    "    [11,12,13,14,15],\n",
    "    [16,17,18,19,20],\n",
    "    [21,22,23,24,25]\n",
    "])\n",
    "\n",
    "Nx = img.shape[0]\n",
    "Ny = img.shape[1]\n",
    "\n",
    "print(\"Shape: (\", Nx, \",\", Ny, \")\")"
   ]
  },
  {
   "cell_type": "code",
   "execution_count": 62,
   "id": "74165d95",
   "metadata": {},
   "outputs": [],
   "source": [
    "def shift(xs, n):\n",
    "    if n > 0:\n",
    "        return np.concatenate((np.full(n, 0), xs[:-n]))\n",
    "    elif n < 0:\n",
    "        return np.concatenate((xs[-n:], np.full(-n, 0)))\n",
    "    else:\n",
    "        return xs"
   ]
  },
  {
   "cell_type": "code",
   "execution_count": 122,
   "id": "ad9b2351",
   "metadata": {},
   "outputs": [
    {
     "data": {
      "text/plain": [
       "<matplotlib.image.AxesImage at 0x7f879c1afcd0>"
      ]
     },
     "execution_count": 122,
     "metadata": {},
     "output_type": "execute_result"
    },
    {
     "data": {
      "image/png": "[encoded data removed]",
      "text/plain": [
       "<Figure size 432x288 with 1 Axes>"
      ]
     },
     "metadata": {
      "needs_background": "light"
     },
     "output_type": "display_data"
    }
   ],
   "source": [
    "W = np.zeros((Nx*Ny, Nx*Ny))\n",
    "\n",
    "A = np.zeros_like(img)\n",
    "A[:3,:3] = 1\n",
    "A_flattened = A.flatten()\n",
    "shift_nums = np.arange(-1-Nx,Nx*(Ny-1)-1)\n",
    "\n",
    "for i in range(Nx*Ny):\n",
    "    W[:,i] = shift(A_flattened, shift_nums[i])\n",
    "    \n",
    "np.fill_diagonal(W, 0)\n",
    "\n",
    "W_lil = scipy.sparse.lil_matrix(W)\n",
    "\n",
    "plt.imshow(W)\n"
   ]
  },
  {
   "cell_type": "code",
   "execution_count": 125,
   "id": "ad5eeee1",
   "metadata": {},
   "outputs": [
    {
     "data": {
      "text/plain": [
       "<matplotlib.image.AxesImage at 0x7f879bf26430>"
      ]
     },
     "execution_count": 125,
     "metadata": {},
     "output_type": "execute_result"
    },
    {
     "data": {
      "image/png": "[encoded data removed]",
      "text/plain": [
       "<Figure size 432x288 with 1 Axes>"
      ]
     },
     "metadata": {
      "needs_background": "light"
     },
     "output_type": "display_data"
    }
   ],
   "source": [
    "rows = np.concatenate([\n",
    "    np.arange(Nx*Ny-1),\n",
    "    np.arange(Nx*Ny-4), \n",
    "    np.arange(Nx*Ny-5), \n",
    "    np.arange(Nx*Ny-6)\n",
    "])\n",
    "cols = rows + np.concatenate([\n",
    "    np.ones(Nx*Ny-1),\n",
    "    4*np.ones(Nx*Ny-4),\n",
    "    5*np.ones(Nx*Ny-5),\n",
    "    6*np.ones(Nx*Ny-6)\n",
    "]).astype(int)\n",
    "\n",
    "data = np.ones_like(cols)\n",
    "\n",
    "W_csr = scipy.sparse.csr_matrix((data, (rows, cols)), shape=(Nx*Ny,Nx*Ny))\n",
    "W_csr = W_csr.T + W_csr\n",
    "\n",
    "plt.imshow(W_csr.toarray())"
   ]
  },
  {
   "cell_type": "code",
   "execution_count": 181,
   "id": "b5741458",
   "metadata": {},
   "outputs": [],
   "source": [
    "f = plt.imread(\"cman.tif\") / 255.0\n",
    "\n",
    "rs = np.random.RandomState(5)\n",
    "n = rs.randn(f.shape[0], f.shape[1])*0.1\n",
    "y = f + n"
   ]
  },
  {
   "cell_type": "code",
   "execution_count": 213,
   "id": "acb8699c",
   "metadata": {},
   "outputs": [],
   "source": [
    "Theta = 0.1\n",
    "K = 1e-5\n",
    "\n",
    "Nx = y.shape[0]\n",
    "Ny = y.shape[1]\n",
    "\n",
    "rows = np.concatenate([\n",
    "    np.arange(Nx*Ny-1),\n",
    "    np.arange(Nx*Ny-4), \n",
    "    np.arange(Nx*Ny-5), \n",
    "    np.arange(Nx*Ny-6)\n",
    "])\n",
    "cols = rows + np.concatenate([\n",
    "    np.ones(Nx*Ny-1),\n",
    "    4*np.ones(Nx*Ny-4),\n",
    "    5*np.ones(Nx*Ny-5),\n",
    "    6*np.ones(Nx*Ny-6)\n",
    "]).astype(int)\n",
    "\n",
    "y_1d = y.flatten()\n",
    "vertices1 = y_1d[rows]\n",
    "vertices2 = y_1d[cols]\n",
    "dists = np.abs(vertices1-vertices2)\n",
    "data = np.exp(-(dists**2)/(2*(Theta**2)))*(dists>K)\n",
    "\n",
    "W_csr = scipy.sparse.csr_matrix((data, (rows, cols)), shape=(Nx*Ny,Nx*Ny))\n",
    "W_csr = W_csr.T + W_csr"
   ]
  },
  {
   "cell_type": "code",
   "execution_count": 180,
   "id": "ae086c16",
   "metadata": {},
   "outputs": [
    {
     "name": "stdout",
     "output_type": "stream",
     "text": [
      "[1 2 3 4 5 6 7 8 9]\n"
     ]
    }
   ],
   "source": [
    "img_exp = np.array([\n",
    "    [1,2,3],\n",
    "    [4,5,6],\n",
    "    [7,8,9]\n",
    "])\n",
    "print(np.reshape(img_exp, (9)))"
   ]
  },
  {
   "cell_type": "code",
   "execution_count": 165,
   "id": "217ce145",
   "metadata": {},
   "outputs": [
    {
     "name": "stdout",
     "output_type": "stream",
     "text": [
      "[    0     1     2 ... 65527 65528 65529] \n",
      " [    1     2     3 ... 65533 65534 65535]\n",
      "[[    0     0]\n",
      " [    0     1]\n",
      " [    0     2]\n",
      " ...\n",
      " [13105     2]\n",
      " [13105     3]\n",
      " [13105     4]]\n",
      "[[    0     1]\n",
      " [    0     2]\n",
      " [    0     3]\n",
      " ...\n",
      " [13106     3]\n",
      " [13106     4]\n",
      " [13107     0]]\n",
      "[[0 0]\n",
      " [0 1]]\n",
      "[[[    0     0]\n",
      "  [    0     1]]\n",
      "\n",
      " [[    0     0]\n",
      "  [    1     2]]\n",
      "\n",
      " [[    0     0]\n",
      "  [    2     3]]\n",
      "\n",
      " ...\n",
      "\n",
      " [[13105 13106]\n",
      "  [    2     3]]\n",
      "\n",
      " [[13105 13106]\n",
      "  [    3     4]]\n",
      "\n",
      " [[13105 13107]\n",
      "  [    4     0]]]\n"
     ]
    }
   ],
   "source": [
    "print(rows, \"\\n\", cols)\n",
    "i = 8\n",
    "inds1 = np.stack((rows//5, rows%5), axis=1)\n",
    "inds2 = np.stack((cols//5, cols%5), axis=1)\n",
    "\n",
    "print(inds1)\n",
    "print(inds2)\n",
    "inds = np.stack((inds1, inds2), axis=2)\n",
    "print(inds[0])\n",
    "print(inds)\n",
    "\n",
    "def process(f):\n",
    "    f_flattened = f.flatten()\n",
    "    inds1 = f_flattened[rows]\n",
    "    inds2 = f_flattened[cols]\n",
    "    "
   ]
  },
  {
   "cell_type": "code",
   "execution_count": null,
   "id": "ef88fe16",
   "metadata": {},
   "outputs": [],
   "source": [
    "def gaussian_weight(dist, K, theta):\n",
    "    return np.exp(-(dist**2)/(2*(Theta**2)))\n",
    "\n",
    "def myfunc(x, y, f):\n",
    "    dist = np.abs(f[i,j]-f[i,j-1])\n",
    "    \n",
    "    "
   ]
  },
  {
   "cell_type": "code",
   "execution_count": null,
   "id": "1da8a6ea",
   "metadata": {},
   "outputs": [],
   "source": [
    "\n",
    "\n",
    "dist = np.abs(f[i,j]-f[i,j-1])\n",
    "res = gaussian_weight(dist,K,Theta)\n",
    "    \n",
    "\n",
    "vfunc(rows, cols)"
   ]
  }
 ],
 "metadata": {
  "kernelspec": {
   "display_name": "Python 3 (ipykernel)",
   "language": "python",
   "name": "python3"
  },
  "language_info": {
   "codemirror_mode": {
    "name": "ipython",
    "version": 3
   },
   "file_extension": ".py",
   "mimetype": "text/x-python",
   "name": "python",
   "nbconvert_exporter": "python",
   "pygments_lexer": "ipython3",
   "version": "3.8.8"
  }
 },
 "nbformat": 4,
 "nbformat_minor": 5
}
